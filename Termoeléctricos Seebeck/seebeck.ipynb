{
 "cells": [
  {
   "cell_type": "code",
   "execution_count": 1,
   "id": "802eed71",
   "metadata": {},
   "outputs": [],
   "source": [
    "import numpy as np\n",
    "import matplotlib.pyplot as plt\n",
    "import pandas as pd"
   ]
  },
  {
   "cell_type": "code",
   "execution_count": 2,
   "id": "aa6c44f3",
   "metadata": {},
   "outputs": [],
   "source": [
    "def inicio(c, s=[5.0, 3.5]):\n",
    "    import matplotlib\n",
    "    from cycler import cycler\n",
    "\n",
    "    #matplotlib.use(\"pgf\")\n",
    "    #matplotlib.rcParams.update({\n",
    "    #    \"pgf.texsystem\": \"pdflatex\",\n",
    "    #    'font.family': 'serif',\n",
    "    #    'text.usetex': True,\n",
    "    #    'pgf.rcfonts': False,\n",
    "    #    'figure.figsize': s,\n",
    "    #    'scatter.edgecolors': \"black\"\n",
    "    #})\n",
    "\n",
    "    ccycler = 0\n",
    "    if c <= 2:\n",
    "        ccycler = (cycler(color=[\"royalblue\", \"tomato\"]))\n",
    "    if c == 3:\n",
    "        ccycler = (cycler(color=[\"royalblue\", \"mediumseagreen\", \"tomato\"]))\n",
    "    if c >= 4:\n",
    "        ccycler = (cycler(color=[\"royalblue\", \"mediumseagreen\", \"sandybrown\", \"tomato\", \"orchid\"]))\n",
    "    matplotlib.rcParams['axes.prop_cycle'] = ccycler\n",
    "\n",
    "def guardar(n, xl, yl, leg=True, lab=True):\n",
    "    import matplotlib.pyplot as plt\n",
    "    if lab:\n",
    "        plt.xlabel(xl)\n",
    "        plt.ylabel(yl, rotation=0, labelpad=20)\n",
    "    if leg: plt.legend()\n",
    "    plt.savefig(n + \".pgf\", bbox_inches = \"tight\")"
   ]
  },
  {
   "cell_type": "code",
   "execution_count": 3,
   "id": "1eb6030f",
   "metadata": {},
   "outputs": [],
   "source": [
    "#Regresión lineal sin término independiente\n",
    "def reg_lin_b(x, y):\n",
    "    print(\"---\\nRegresión lineal sin término independiente\\n---\")\n",
    "\n",
    "    n = len(x)\n",
    "\n",
    "    sxy = (x*y).sum()\n",
    "    sx2 = (x**2).sum()\n",
    "\n",
    "    b = sxy / sx2\n",
    "\n",
    "    sybx = ((y - b*x)**2).sum()\n",
    "    s = (sybx / (n-1))**0.5\n",
    "    sb = s / (sx2)**0.5\n",
    "\n",
    "    sy2 = (y**2).sum()\n",
    "    r = sxy / (sx2 * sy2)**0.5\n",
    "\n",
    "    print(\"b=\", b)\n",
    "    print(\"s=\", s, \"sb=\", sb)\n",
    "    print(\"r=\", r, \"\\n---\")\n",
    "\n",
    "    return (b, s, sb, r)\n",
    "\n",
    "#Regresión lineal con término independiente\n",
    "def reg_lin(x, y):\n",
    "    print(\"---\\nRegresión lineal con término independiente\\n---\")\n",
    "\n",
    "    n = len(x)\n",
    "\n",
    "    sx = x.sum()\n",
    "    sy = y.sum()\n",
    "    sxy = (x*y).sum()\n",
    "    sx2 = (x**2).sum()\n",
    "    sy2 = (y**2).sum()\n",
    "\n",
    "    a = (sy*sx2 - sx*sxy) / (n*sx2 - sx**2)\n",
    "    b = (n*sxy - sx*sy) / (n*sx2 - sx**2)\n",
    "\n",
    "    sdesv = ((y - a - b*x)**2).sum()\n",
    "    s = (sdesv/float(n-2))*0.5\n",
    "    sa = s*(sx2 / (n*sx2 - sx**2))**0.5\n",
    "    sb = s*(n / (n*sx2 - sx**2))**0.5\n",
    "\n",
    "    r = (n*sxy - sx*sy)/(((n*sx2 - sx**2)*(n*sy2 - sy**2))**0.5)\n",
    "\n",
    "    print(\"a=\", a, \"b=\", b)\n",
    "    print(\"s=\", s, \"sa=\", sa, \"sb=\", sb)\n",
    "    print(\"r=\", r, \"\\n---\")\n",
    "\n",
    "    return (a, b, s, sa, sb, r)\n",
    "\n",
    "#Regresión lineal ponderada con término independiente\n",
    "def reg_lin_w(x, y, sy):\n",
    "    print(\"---\\nRegresión lineal ponderada con término independiente\\n---\")\n",
    "\n",
    "    n = len(x)\n",
    "    w = sy**(-2)\n",
    "\n",
    "    sw = w.sum()\n",
    "    swx = (w*x).sum()\n",
    "    swy = (w*y).sum()\n",
    "    swxy = (w*x*y).sum()\n",
    "    swx2 = (w*x**2).sum()\n",
    "    swy2 = (w*y**2).sum()\n",
    "    det = sw * swx2 - swx**2\n",
    "\n",
    "    a = (swy*swx2 - swx*swxy) / det\n",
    "    b = (sw*swxy - swx*swy) / det\n",
    "\n",
    "    sa = (swx2 / det)**0.5\n",
    "    sb = (sw / det)**0.5\n",
    "\n",
    "    swab = (w*(y - a - b*x)**2).sum()\n",
    "    s = ((n / ((n-2) * sw)) * swab)**0.5\n",
    "\n",
    "    r = (sw*swxy - swx*swy) / ((sw*swx2 - swx**2) * (sw*swy2 - swy**2))**0.5\n",
    "\n",
    "    print(\"a=\", a, \"b=\", b)\n",
    "    print(\"s=\", s, \"sa=\", sa, \"sb=\", sb)\n",
    "    print(\"r=\", r, \"\\n---\")\n",
    "\n",
    "    return (a, b, s, sa, sb, r)\n",
    "\n",
    "#Regresión lineal ponderada sin término independiente\n",
    "def reg_lin_wb(x, y, sy):\n",
    "    print(\"---\\nRegresión lineal ponderada sin término independiente\\n---\")\n",
    "\n",
    "    n = len(x)\n",
    "    w = sy**(-2)\n",
    "\n",
    "    sw = w.sum()\n",
    "    swx = (w*x).sum()\n",
    "    swxy = (w*x*y).sum()\n",
    "    swx2 = (w*x**2).sum()\n",
    "    swy2 = (w*y**2).sum()\n",
    "\n",
    "    b = swxy / swx2\n",
    "    sb = 1 / (swx2)**0.5\n",
    "\n",
    "    swb = (w*(y - b*x)**2).sum()\n",
    "    s = ((n / ((n-1) * sw)) * swb)**0.5\n",
    "\n",
    "    r = swxy / (swx2 * swy2)**0.5\n",
    "\n",
    "    print(\"b=\", b)\n",
    "    print(\"s=\", s, \"sb=\", sb)\n",
    "    print(\"r=\", r, \"\\n---\")\n",
    "\n",
    "    return (b, s, sb, r)"
   ]
  },
  {
   "cell_type": "code",
   "execution_count": 4,
   "id": "8e953ddd",
   "metadata": {},
   "outputs": [],
   "source": [
    "def tratamiento_datos(x, sb=0):\n",
    "    import numpy as np\n",
    "    #Media\n",
    "    fmed = lambda x: x.sum() / len(x)\n",
    "    med = fmed(x)\n",
    "\n",
    "    #Desviación típica muestra\n",
    "    fsa = lambda x, m: (((x - m)**2).sum() / (len(x) - 1))**0.5\n",
    "    sa = fsa(x, med)\n",
    "\n",
    "    #Valores discordantes\n",
    "    k = 2\n",
    "    lb = med - k*sa\n",
    "    ub = med + k*sa\n",
    "    e = np.array(np.where(np.logical_or(x <= lb, x >= ub))).flatten().astype(np.int32).tolist()\n",
    "\n",
    "    #Eliminar valores y calcular de nuevo\n",
    "    nx = np.delete(x, e)\n",
    "    med = fmed(nx)\n",
    "    sa = fsa(nx, med)\n",
    "\n",
    "    #Desviación típica media\n",
    "    sm = sa / len(nx)**0.5\n",
    "\n",
    "    #Incertidumbre combinada\n",
    "    sc = (sm**2 + sb**2)**0.5\n",
    "\n",
    "    print(\"---\\nTratamiento de datos\\n---\")\n",
    "    print(\"Media: {}, sa: {}, sb: {}, sc: {}\".format(med, sa, sb, sc))\n",
    "    if len(e) > 0:\n",
    "        print(\"Eliminados: {}\".format(x[e]))\n",
    "        print(\"Indices: {}\\n---\".format(e))\n",
    "\n",
    "    return med, sc"
   ]
  },
  {
   "cell_type": "code",
   "execution_count": 5,
   "id": "8253c2de",
   "metadata": {},
   "outputs": [
    {
     "name": "stdout",
     "output_type": "stream",
     "text": [
      "---\n",
      "Regresión lineal sin término independiente\n",
      "---\n",
      "b= 818.4611096015351\n",
      "s= 0.40273570649445656 sb= 1.0004826028206175\n",
      "r= 0.9999932759471292 \n",
      "---\n"
     ]
    }
   ],
   "source": [
    "inicio(1)\n",
    "\n",
    "c = [\"royalblue\", \"mediumseagreen\", \"sandybrown\", \"tomato\"]\n",
    "\n",
    "d = pd.read_csv(\"vir.csv\", sep=';', decimal=',')\n",
    "v = d[\"v\"].to_numpy()\n",
    "i = d[\"i\"].to_numpy() * 0.001\n",
    "\n",
    "b, s, sb, r = reg_lin_b(i, v)"
   ]
  },
  {
   "cell_type": "code",
   "execution_count": 6,
   "id": "59cec335",
   "metadata": {},
   "outputs": [
    {
     "data": {
      "text/plain": [
       "[<matplotlib.lines.Line2D at 0x12040a160>]"
      ]
     },
     "execution_count": 6,
     "metadata": {},
     "output_type": "execute_result"
    },
    {
     "data": {
      "image/png": "[encoded data removed]",
      "text/plain": [
       "<Figure size 432x288 with 1 Axes>"
      ]
     },
     "metadata": {
      "needs_background": "light"
     },
     "output_type": "display_data"
    }
   ],
   "source": [
    "plt.clf()\n",
    "plt.scatter(i*1000, v, edgecolors=\"black\", linewidth=0.5)\n",
    "xr = np.linspace(min(i*1000), max(i*1000), 20)\n",
    "yr = b*xr*0.001\n",
    "plt.plot(xr, yr, color=\"cornflowerblue\")\n",
    "#guardar(\"vir\", \"$I(mA)$\", \"$V(V)$\", leg=False)"
   ]
  },
  {
   "cell_type": "code",
   "execution_count": 7,
   "id": "2a3de60d",
   "metadata": {},
   "outputs": [],
   "source": [
    "inicio(2)\n",
    "d = pd.read_csv(\"v125a.csv\", sep=';', decimal=',')\n",
    "t = d[\"t\"].to_numpy()\n",
    "T1 = d[\"T1\"].to_numpy() +273\n",
    "T2 = d[\"T2\"].to_numpy() +273"
   ]
  },
  {
   "cell_type": "code",
   "execution_count": 8,
   "id": "983154f6",
   "metadata": {},
   "outputs": [
    {
     "data": {
      "text/plain": [
       "<matplotlib.collections.PathCollection at 0x12050f310>"
      ]
     },
     "execution_count": 8,
     "metadata": {},
     "output_type": "execute_result"
    },
    {
     "data": {
      "image/png": "[encoded data removed]",
      "text/plain": [
       "<Figure size 432x288 with 1 Axes>"
      ]
     },
     "metadata": {
      "needs_background": "light"
     },
     "output_type": "display_data"
    }
   ],
   "source": [
    "plt.clf()\n",
    "plt.scatter(t, T1 -273, edgecolors=\"black\", linewidth=0.5, label=\"$T_1$\", s=16)\n",
    "plt.scatter(t, T2 -273, edgecolors=\"black\", linewidth=0.5, label=\"$T_2$\", s=16)\n",
    "#guardar(\"v125a\", \"$t(min)$\", \"$T(^{\\circ} C)$\", leg=True)"
   ]
  },
  {
   "cell_type": "code",
   "execution_count": 27,
   "id": "6063c9b1",
   "metadata": {},
   "outputs": [],
   "source": [
    "inicio(2)\n",
    "d = pd.read_csv(\"v125a.csv\", sep=';', decimal=',')\n",
    "t = d[\"t\"].to_numpy() *60\n",
    "T1 = d[\"T1\"].to_numpy() + 273\n",
    "T2 = d[\"T2\"].to_numpy() + 273"
   ]
  },
  {
   "cell_type": "code",
   "execution_count": 28,
   "id": "799a4e27",
   "metadata": {},
   "outputs": [
    {
     "name": "stdout",
     "output_type": "stream",
     "text": [
      "[ 3.14094226e+02 -1.63297666e+01 -6.27121400e-04]\n",
      "[5.12570266e-02 4.53888888e-02 5.70843615e-06]\n"
     ]
    }
   ],
   "source": [
    "from scipy.optimize import curve_fit\n",
    "\n",
    "p0 = (305, -16, -0.001)\n",
    "def curva(x,a,b,c):\n",
    "    return a + b * np.exp(c * x)\n",
    "popt, pcov = curve_fit(curva, t, T2, p0)\n",
    "print(popt)\n",
    "print(np.sqrt(np.diag(pcov)))\n",
    "\n",
    "xs = np.linspace(min(t), max(t), 100)\n",
    "ys = (curva(xs, *popt)) #TODO: DO FOR THE OTHER ONE"
   ]
  },
  {
   "cell_type": "code",
   "execution_count": 14,
   "id": "63f47b9d",
   "metadata": {},
   "outputs": [
    {
     "data": {
      "text/plain": [
       "[<matplotlib.lines.Line2D at 0x12e1e5640>]"
      ]
     },
     "execution_count": 14,
     "metadata": {},
     "output_type": "execute_result"
    },
    {
     "data": {
      "image/png": "[encoded data removed]",
      "text/plain": [
       "<Figure size 432x288 with 1 Axes>"
      ]
     },
     "metadata": {
      "needs_background": "light"
     },
     "output_type": "display_data"
    }
   ],
   "source": [
    "plt.clf()\n",
    "#plt.scatter(t, T1, edgecolors=\"black\", linewidth=0.5, label=\"$T_1$\", s=16)\n",
    "plt.scatter(t, T2 - 273, edgecolors=\"black\", linewidth=0.5, label=\"$T_2$\", s=16, c=\"tomato\")\n",
    "plt.plot(xs, ys - 273, color=\"lightsalmon\")\n",
    "#guardar(\"v125ar\", \"$t(min)$\", \"$T(^{\\circ} C)$\", leg=False)"
   ]
  },
  {
   "cell_type": "code",
   "execution_count": 17,
   "id": "152937a4",
   "metadata": {},
   "outputs": [
    {
     "name": "stdout",
     "output_type": "stream",
     "text": [
      "---\n",
      "Tratamiento de datos\n",
      "---\n",
      "Media: 292.7064516129032, sa: 0.7859151432402903, sb: 2.0, sc: 2.0024890262369945\n",
      "Eliminados: [290.3 290.3 290.3 290.3 290.3 290.3]\n",
      "Indices: [62, 63, 64, 65, 66, 67]\n",
      "---\n"
     ]
    }
   ],
   "source": [
    "d = pd.read_csv(\"v125a.csv\", sep=';', decimal=',')\n",
    "T1 = d[\"T1\"].to_numpy() + 273\n",
    "t, ut = tratamiento_datos(T1, 2.0)"
   ]
  },
  {
   "cell_type": "code",
   "execution_count": 19,
   "id": "1c079ac6",
   "metadata": {},
   "outputs": [
    {
     "name": "stdout",
     "output_type": "stream",
     "text": [
      "---\n",
      "Tratamiento de datos\n",
      "---\n",
      "Media: 290.87272727272733, sa: 0.14201807347091436, sb: 0.1, sc: 0.1022662671203762\n"
     ]
    }
   ],
   "source": [
    "d = pd.read_csv(\"v150a.csv\", sep=';', decimal=',')\n",
    "T1 = d[\"T1\"].to_numpy() + 273\n",
    "t, ut = tratamiento_datos(T1, 0.1)"
   ]
  },
  {
   "cell_type": "code",
   "execution_count": 29,
   "id": "946c1295",
   "metadata": {},
   "outputs": [
    {
     "name": "stdout",
     "output_type": "stream",
     "text": [
      "0.895+/-0.084\n",
      "(1.43+/-0.13)e+03\n",
      "0.8392+/-0.0033\n",
      "1207+/-17\n"
     ]
    }
   ],
   "source": [
    "import uncertainties as u\n",
    "T1u = u.ufloat(19.7 + 273, 2.0)\n",
    "T2infu = u.ufloat(41.094 + 273, 0.051) #TODO: CHECK\n",
    "RCu = u.ufloat(818.5, 1.0)\n",
    "Vu = u.ufloat(125.2, 0.1)\n",
    "c = u.ufloat(-6.271e-4, 0.0570e-4)\n",
    "\n",
    "l = (Vu**2) / (RCu * (T2infu - T1u))\n",
    "C = -l / c\n",
    "print(\"{:.2u}\".format(l))\n",
    "print(\"{:.2u}\".format(C))\n",
    "\n",
    "T1u = u.ufloat(17.87 + 273, 0.10)\n",
    "T2infu = u.ufloat(50.847 + 273, 0.054)\n",
    "RCu = u.ufloat(818.5, 1.0)\n",
    "Vu = u.ufloat(150.5, 0.1)\n",
    "c = u.ufloat(-6.954e-4, 0.093e-4)\n",
    "\n",
    "l = (Vu**2) / (RCu * (T2infu - T1u))\n",
    "C = -l / c\n",
    "print(\"{:.2u}\".format(l))\n",
    "print(\"{:.2u}\".format(C))"
   ]
  },
  {
   "cell_type": "code",
   "execution_count": 94,
   "id": "3924f737",
   "metadata": {},
   "outputs": [
    {
     "name": "stdout",
     "output_type": "stream",
     "text": [
      "---\n",
      "Regresión lineal con término independiente\n",
      "---\n",
      "a= 1.130128189111537 b= -4.591161472219349\n",
      "s= 1.0578800022342738e-05 sa= 1.578458131603031e-05 sb= 0.00010839725914014279\n",
      "r= -0.9995787202922719 \n",
      "---\n",
      "---\n",
      "Regresión lineal con término independiente\n",
      "---\n",
      "a= 1.632493584978249 b= -4.7090416384961395\n",
      "s= 1.0966134387973477e-06 sa= 1.4612764129723757e-06 sb= 1.060222979232982e-05\n",
      "r= -0.9999630221464199 \n",
      "---\n"
     ]
    }
   ],
   "source": [
    "d1 = pd.read_csv(\"v125b.csv\", sep=';', decimal=',')\n",
    "V1 = d1[\"V V\"].to_numpy()\n",
    "I1 = d1[\"I mA\"].to_numpy() * 0.001\n",
    "d2 = pd.read_csv(\"v150b.csv\", sep=';', decimal=',')\n",
    "V2 = d2[\"V V\"].to_numpy()\n",
    "I2 = d2[\"I mA\"].to_numpy() * 0.001\n",
    "\n",
    "a1, b1, s1, sa1, sb1, r1 = reg_lin(I1, V1)\n",
    "a2, b2, s2, sa2, sb2, r2 = reg_lin(I2, V2)"
   ]
  },
  {
   "cell_type": "code",
   "execution_count": 95,
   "id": "70618565",
   "metadata": {},
   "outputs": [
    {
     "data": {
      "image/png": "[encoded data removed]",
      "text/plain": [
       "<Figure size 432x288 with 1 Axes>"
      ]
     },
     "metadata": {
      "needs_background": "light"
     },
     "output_type": "display_data"
    }
   ],
   "source": [
    "plt.clf()\n",
    "\n",
    "I1 *= 1000\n",
    "I2 *= 1000\n",
    "b1 *= 0.001\n",
    "b2 *= 0.001\n",
    "\n",
    "plt.scatter(I1, V1, edgecolors=\"black\", linewidth=0.5, label=\"$V = 125,2V$\")\n",
    "plt.scatter(I2, V2, edgecolors=\"black\", linewidth=0.5, label=\"$V = 150,5V$\")\n",
    "\n",
    "xr1 = np.linspace(min(I2) - 5, max(I1) + 5, 20)\n",
    "yr1 = a1 + b1*xr1\n",
    "plt.plot(xr1, yr1, color=\"cornflowerblue\", label=\"$V_{R_P} = \\\\varepsilon - Ir_i$\")\n",
    "xr2 = np.linspace(min(I2) - 5, max(I1) + 5, 20)\n",
    "yr2 = a2 + b2*xr2\n",
    "plt.plot(xr2, yr2, color=\"lightsalmon\")\n",
    "\n",
    "guardar(\"vb\", \"$I(mA)$\", \"$V_{R_P}(V)$\", leg=True)"
   ]
  },
  {
   "cell_type": "code",
   "execution_count": 96,
   "id": "63144db2",
   "metadata": {},
   "outputs": [
    {
     "name": "stdout",
     "output_type": "stream",
     "text": [
      "1.15106+/-0.00050\n",
      "1.64675+/-0.00050\n"
     ]
    }
   ],
   "source": [
    "a1 = u.ufloat(1.172, 0.001)\n",
    "b1 = u.ufloat(1.661, 0.001)\n",
    "a2 = u.ufloat(1.130128, 1.6e-5)\n",
    "b2 = u.ufloat(1.6324936, 1.5e-6)\n",
    "\n",
    "a = (a1 + a2)/2 #TODO: CHECK\n",
    "b = (b1 + b2)/2\n",
    "\n",
    "print(\"{:.2u}\".format(a))\n",
    "print(\"{:.2u}\".format(b))"
   ]
  },
  {
   "cell_type": "code",
   "execution_count": 97,
   "id": "c987da56",
   "metadata": {},
   "outputs": [
    {
     "name": "stdout",
     "output_type": "stream",
     "text": [
      "0.0538+/-0.0050\n",
      "0.04994+/-0.00017\n"
     ]
    }
   ],
   "source": [
    "T1u = u.ufloat(19.7 + 273, 2.0) #TODO: CHECK\n",
    "T2infu = u.ufloat(41.094 +273, 0.051)\n",
    "\n",
    "S = a / (T2infu - T1u)\n",
    "print(\"{:.2u}\".format(S))\n",
    "\n",
    "T1u = u.ufloat(17.87, 0.10)\n",
    "T2infu = u.ufloat(50.847, 0.054)\n",
    "\n",
    "S = b / (T2infu - T1u)\n",
    "print(\"{:.2u}\".format(S))"
   ]
  },
  {
   "cell_type": "code",
   "execution_count": null,
   "id": "4ca901ad",
   "metadata": {},
   "outputs": [],
   "source": []
  }
 ],
 "metadata": {
  "kernelspec": {
   "display_name": "Python 3",
   "language": "python",
   "name": "python3"
  },
  "language_info": {
   "codemirror_mode": {
    "name": "ipython",
    "version": 3
   },
   "file_extension": ".py",
   "mimetype": "text/x-python",
   "name": "python",
   "nbconvert_exporter": "python",
   "pygments_lexer": "ipython3",
   "version": "3.9.1"
  }
 },
 "nbformat": 4,
 "nbformat_minor": 5
}
