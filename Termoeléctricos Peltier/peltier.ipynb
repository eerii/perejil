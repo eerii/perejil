{
 "cells": [
  {
   "cell_type": "code",
   "execution_count": 5,
   "metadata": {},
   "outputs": [],
   "source": [
    "import numpy as np\n",
    "import matplotlib.pyplot as plt\n",
    "import pandas as pd\n",
    "import uncertainties as u"
   ]
  },
  {
   "cell_type": "code",
   "execution_count": 6,
   "metadata": {},
   "outputs": [],
   "source": [
    "def inicio(c, s=[5.0, 3.5]):\n",
    "    import matplotlib\n",
    "    from cycler import cycler\n",
    "    ccycler = 0\n",
    "    if c <= 2:\n",
    "        ccycler = (cycler(color=[\"royalblue\", \"tomato\"]))\n",
    "    if c == 3:\n",
    "        ccycler = (cycler(color=[\"royalblue\", \"mediumseagreen\", \"tomato\"]))\n",
    "    if c >= 4:\n",
    "        ccycler = (cycler(color=[\"royalblue\", \"mediumseagreen\", \"sandybrown\", \"tomato\", \"orchid\"]))\n",
    "    matplotlib.rcParams['axes.prop_cycle'] = ccycler\n",
    "\n",
    "def guardar(n, xl, yl, leg=True, lab=True):\n",
    "    import matplotlib.pyplot as plt\n",
    "    if lab:\n",
    "        plt.xlabel(xl)\n",
    "        plt.ylabel(yl, rotation=0, labelpad=20)\n",
    "    if leg: plt.legend()\n",
    "    plt.savefig(n + \".pgf\", bbox_inches = \"tight\")"
   ]
  },
  {
   "cell_type": "code",
   "execution_count": 7,
   "metadata": {},
   "outputs": [],
   "source": [
    "d = pd.read_csv(\"datos.csv\", sep=';', decimal=',')\n",
    "d05 = d[:75].copy()\n",
    "d10 = d[76:105].copy()\n",
    "d15 = d[106:134].copy()\n",
    "d20 = d[135:166].copy()\n",
    "d25 = d[167:191].copy()"
   ]
  },
  {
   "cell_type": "code",
   "execution_count": 8,
   "metadata": {},
   "outputs": [],
   "source": [
    "d05.to_csv(\"d05.csv\", sep=';', decimal=',', index=False)\n",
    "d10.to_csv(\"d10.csv\", sep=';', decimal=',', index=False)\n",
    "d15.to_csv(\"d15.csv\", sep=';', decimal=',', index=False)\n",
    "d20.to_csv(\"d20.csv\", sep=';', decimal=',', index=False)\n",
    "d25.to_csv(\"d25.csv\", sep=';', decimal=',', index=False)"
   ]
  },
  {
   "cell_type": "code",
   "execution_count": 9,
   "metadata": {},
   "outputs": [
    {
     "data": {
      "text/plain": [
       "<matplotlib.collections.PathCollection at 0x118f31790>"
      ]
     },
     "execution_count": 9,
     "metadata": {},
     "output_type": "execute_result"
    },
    {
     "data": {
      "image/png": "[encoded data removed]",
      "text/plain": [
       "<Figure size 432x288 with 1 Axes>"
      ]
     },
     "metadata": {
      "needs_background": "light"
     },
     "output_type": "display_data"
    }
   ],
   "source": [
    "y1 = d[\"T1\"].to_numpy()\n",
    "y2 = d[\"T2\"].to_numpy()\n",
    "x = d[\"t\"].to_numpy()\n",
    "\n",
    "plt.clf()\n",
    "plt.scatter(x, y1)\n",
    "plt.scatter(x, y2)"
   ]
  },
  {
   "cell_type": "code",
   "execution_count": 30,
   "metadata": {},
   "outputs": [
    {
     "data": {
      "image/png": "[encoded data removed]",
      "text/plain": [
       "<Figure size 432x288 with 1 Axes>"
      ]
     },
     "metadata": {
      "needs_background": "light"
     },
     "output_type": "display_data"
    }
   ],
   "source": [
    "plt.clf()\n",
    "\n",
    "c1 = [\"#192C8A\", \"#233DBE\", \"#3350DA\", \"#536ADF\", \"#7588E6\"]\n",
    "c2 = [\"#943929\", \"#E35840\", \"#FF6347\", \"#FF8670\", \"#FFA899\"]\n",
    "\n",
    "for j in range(5):\n",
    "    i = str(5 * (j + 1))\n",
    "    if (len(i) == 1):\n",
    "        i = \"0\" + i\n",
    "    D = pd.read_csv(\"d{}.csv\".format(i), sep=';', decimal=',')\n",
    "    t = D[\"t\"].to_numpy()\n",
    "    T1 = D[\"T1\"].to_numpy() + 273\n",
    "    T2 = D[\"T2\"].to_numpy() + 273\n",
    "    if (j == 2):\n",
    "        plt.scatter(t, T1 - 273, c=c1[j], edgecolors=\"black\", linewidth=0.5, label=\"$T_1$\", s=10)\n",
    "        plt.scatter(t, T2 - 273, c=c2[j], edgecolors=\"black\", linewidth=0.5, label=\"$T_2$\", s=10)\n",
    "    else:\n",
    "        plt.scatter(t, T1 - 273, c=c1[j], edgecolors=\"black\", linewidth=0.5, s=10)\n",
    "        plt.scatter(t, T2 - 273, c=c2[j], edgecolors=\"black\", linewidth=0.5, s=10)\n",
    "guardar(\"todo\", \"$t(min)$\", \"$T(^\\\\circ C)$\", leg=True)"
   ]
  },
  {
   "cell_type": "code",
   "execution_count": 56,
   "metadata": {},
   "outputs": [
    {
     "name": "stdout",
     "output_type": "stream",
     "text": [
      "s = 0.0519+/-0.0025\n",
      "r = 4.650101+/-0.000055\n",
      "l = 0.867+/-0.042\n",
      "c = 1318+/-66\n"
     ]
    }
   ],
   "source": [
    "s1 = u.ufloat(0.0538, 0.0050)\n",
    "s2 = u.ufloat(0.04994, 0.00017)\n",
    "\n",
    "r1 = u.ufloat(4.59116, 1.1e-4)\n",
    "r2 = u.ufloat(4.709041, 1.1e-5)\n",
    "\n",
    "l1 = u.ufloat(0.895, 0.084)\n",
    "l2 = u.ufloat(0.8392, 0.0033)\n",
    "\n",
    "c1 = u.ufloat(1430,130)\n",
    "c2 = u.ufloat(1207,17)\n",
    "\n",
    "r = u.ufloat(818.5, 1.0)\n",
    "\n",
    "s = (s1+s2)/2\n",
    "r = (r1+r2)/2\n",
    "l = (l1+l2)/2\n",
    "c = (c1+c2)/2\n",
    "\n",
    "print(\"s = {:.2u}\".format(s))\n",
    "print(\"r = {:.2u}\".format(r))\n",
    "print(\"l = {:.2u}\".format(l))\n",
    "print(\"c = {:.2u}\".format(c))"
   ]
  },
  {
   "cell_type": "code",
   "execution_count": 55,
   "metadata": {},
   "outputs": [
    {
     "name": "stdout",
     "output_type": "stream",
     "text": [
      "I = 05\n",
      "[ 3.11955611e+02 -2.72795040e+01 -6.79728191e-04]\n",
      "[7.74329909e-02 8.45971193e-02 6.48060214e-06]\n",
      "I = 10\n",
      "[ 3.05496386e+02  5.02040243e+00 -6.95224549e-04]\n",
      "[2.25775503e-01 1.98146995e-01 5.56285832e-05]\n",
      "I = 15\n",
      "[ 3.01190017e+02  5.54858749e+00 -9.48809819e-04]\n",
      "[1.47059000e-01 1.19861645e-01 5.26225271e-05]\n",
      "I = 20\n",
      "[ 2.96067665e+02  6.12021435e+00 -8.26522256e-04]\n",
      "[1.58495333e-01 1.30907104e-01 4.36482077e-05]\n",
      "I = 25\n",
      "[ 2.93196162e+02  3.99402610e+00 -1.08266241e-03]\n",
      "[1.61872469e-01 1.31915803e-01 9.09663122e-05]\n"
     ]
    },
    {
     "data": {
      "image/png": "[encoded data removed]",
      "text/plain": [
       "<Figure size 432x288 with 1 Axes>"
      ]
     },
     "metadata": {
      "needs_background": "light"
     },
     "output_type": "display_data"
    }
   ],
   "source": [
    "from scipy.optimize import curve_fit\n",
    "\n",
    "p0 = (280, 0, -0.01)\n",
    "def curva(x,a,b,c):\n",
    "    return a + b * np.exp(c * x)\n",
    "\n",
    "oldt = 0\n",
    "\n",
    "c1 = [\"royalblue\", \"mediumseagreen\", \"sandybrown\", \"tomato\", \"orchid\"]\n",
    "\n",
    "for j in range(5):\n",
    "    i = str(5 * (j + 1))\n",
    "    if (len(i) == 1):\n",
    "        i = \"0\" + i\n",
    "    D = pd.read_csv(\"d{}.csv\".format(i), sep=';', decimal=',')\n",
    "    t = D[\"t\"].to_numpy()\n",
    "    T1 = D[\"T1\"].to_numpy() + 273\n",
    "    T2 = D[\"T2\"].to_numpy() + 273\n",
    "    \n",
    "    t -= oldt\n",
    "    oldt += t[-1]\n",
    "    \n",
    "    t *= 60\n",
    "    \n",
    "    popt, pcov = curve_fit(curva, t, T2, p0)\n",
    "    print(\"I = {}\".format(i))\n",
    "    print(popt)\n",
    "    print(np.sqrt(np.diag(pcov)))\n",
    "    \n",
    "    t = t * (1 / 60)\n",
    "    \n",
    "    plt.clf()\n",
    "    plt.scatter(t, T2 - 273, c=c1[j], edgecolors=\"black\", linewidth=0.5, label=\"$I = {},{}A$\".format(i[0], i[1]), s=10)\n",
    "    \n",
    "    xs = np.linspace(min(t), max(t), 100)\n",
    "    a, b, c = popt\n",
    "    ys = (curva(xs, a, b, c * 60))\n",
    "    plt.plot(xs, ys - 273, c=c1[j])\n",
    "    guardar(\"i\" + i + \"r\", \"$t(min)$\", \"$T(^\\\\circ C)$\", leg=True)"
   ]
  },
  {
   "cell_type": "code",
   "execution_count": 74,
   "metadata": {},
   "outputs": [
    {
     "name": "stdout",
     "output_type": "stream",
     "text": [
      "l = 0.896+/-0.046\n",
      "l = 0.916+/-0.087\n",
      "l = 1.251+/-0.094\n",
      "l = 1.090+/-0.080\n",
      "l = 1.42+/-0.14\n"
     ]
    }
   ],
   "source": [
    "c = np.array(\n",
    "    [u.ufloat(-6.797e-4, 0.065e-4),\n",
    "     u.ufloat(-6.95e-4, 0.56e-4),\n",
    "     u.ufloat(-9.49e-4, 0.53e-4),\n",
    "     u.ufloat(-8.27e-4, 0.44e-4),\n",
    "     u.ufloat(-1.08e-3, 0.091e-3)],\n",
    ")\n",
    "\n",
    "C = u.ufloat(1318, 66)\n",
    "\n",
    "l = C * (-c)\n",
    "for i in l:\n",
    "    print(\"l = {:.2u}\".format(i))"
   ]
  },
  {
   "cell_type": "code",
   "execution_count": 72,
   "metadata": {},
   "outputs": [],
   "source": [
    "def tratamiento_datos(x, sb=0):\n",
    "    import numpy as np\n",
    "    #Media\n",
    "    fmed = lambda x: x.sum() / len(x)\n",
    "    med = fmed(x)\n",
    "\n",
    "    #Desviación típica muestra\n",
    "    fsa = lambda x, m: (((x - m)**2).sum() / (len(x) - 1))**0.5\n",
    "    sa = fsa(x, med)\n",
    "\n",
    "    #Valores discordantes\n",
    "    k = 2\n",
    "    lb = med - k*sa\n",
    "    ub = med + k*sa\n",
    "    e = np.array(np.where(np.logical_or(x <= lb, x >= ub))).flatten().astype(np.int32).tolist()\n",
    "\n",
    "    #Eliminar valores y calcular de nuevo\n",
    "    nx = np.delete(x, e)\n",
    "    med = fmed(nx)\n",
    "    sa = fsa(nx, med)\n",
    "\n",
    "    #Desviación típica media\n",
    "    sm = sa / len(nx)**0.5\n",
    "\n",
    "    #Incertidumbre combinada\n",
    "    sc = (sm**2 + sb**2)**0.5\n",
    "\n",
    "    print(\"---\\nTratamiento de datos\\n---\")\n",
    "    print(\"Media: {}, sa: {}, sb: {}, sc: {}\".format(med, sa, sb, sc))\n",
    "    if len(e) > 0:\n",
    "        print(\"Eliminados: {}\".format(x[e]))\n",
    "        print(\"Indices: {}\\n---\".format(e))\n",
    "\n",
    "    return med, sc"
   ]
  },
  {
   "cell_type": "code",
   "execution_count": 73,
   "metadata": {},
   "outputs": [
    {
     "name": "stdout",
     "output_type": "stream",
     "text": [
      "---\n",
      "Tratamiento de datos\n",
      "---\n",
      "Media: 289.30999999999995, sa: 0.4530572475584283, sb: 0.1, sc: 0.11372026264763016\n",
      "Eliminados: [288.  287.9 287.9 288.  288.1]\n",
      "Indices: [0, 1, 2, 3, 4]\n",
      "---\n",
      "---\n",
      "Tratamiento de datos\n",
      "---\n",
      "Media: 290.3535714285714, sa: 0.10357370915204707, sb: 0.1, sc: 0.10189762250617614\n",
      "Eliminados: [290.6]\n",
      "Indices: [9]\n",
      "---\n",
      "---\n",
      "Tratamiento de datos\n",
      "---\n",
      "Media: 290.7607142857143, sa: 0.1227441956515107, sb: 0.1, sc: 0.10265513305065523\n",
      "---\n",
      "Tratamiento de datos\n",
      "---\n",
      "Media: 291.1870967741936, sa: 0.1586231077825028, sb: 0.1, sc: 0.10397910620184626\n",
      "---\n",
      "Tratamiento de datos\n",
      "---\n",
      "Media: 291.6217391304348, sa: 0.09513875865917597, sb: 0.1, sc: 0.10194870479148453\n",
      "Eliminados: [291.3]\n",
      "Indices: [0]\n",
      "---\n"
     ]
    }
   ],
   "source": [
    "for j in range(5):\n",
    "    i = str(5 * (j + 1))\n",
    "    if (len(i) == 1):\n",
    "        i = \"0\" + i\n",
    "    D = pd.read_csv(\"d{}.csv\".format(i), sep=';', decimal=',')\n",
    "    T1 = D[\"T1\"].to_numpy() + 273\n",
    "    tratamiento_datos(T1, 0.1)"
   ]
  },
  {
   "cell_type": "code",
   "execution_count": 76,
   "metadata": {},
   "outputs": [
    {
     "name": "stdout",
     "output_type": "stream",
     "text": [
      "Wf = 20.3+/-1.0\n",
      "Wf = 13.9+/-1.3\n",
      "Wf = 13.0+/-1.0\n",
      "Wf = 5.32+/-0.44\n",
      "Wf = 2.25+/-0.35\n"
     ]
    }
   ],
   "source": [
    "T1 = np.array(\n",
    "    [u.ufloat(289.31, 0.11),\n",
    "     u.ufloat(290.35, 0.10),\n",
    "     u.ufloat(290.76, 0.10),\n",
    "     u.ufloat(291.19, 0.10),\n",
    "     u.ufloat(291.62, 0.10)],\n",
    ")\n",
    "\n",
    "T2i = np.array(\n",
    "    [u.ufloat(311.956, 0.077),\n",
    "     u.ufloat(305.50, 0.23),\n",
    "     u.ufloat(301.19, 0.15),\n",
    "     u.ufloat(296.07, 0.16),\n",
    "     u.ufloat(293.20, 0.16)],\n",
    ")\n",
    "\n",
    "Wf = l * (T2i - T1)\n",
    "for i in Wf:\n",
    "    print(\"Wf = {:.2u}\".format(i))"
   ]
  },
  {
   "cell_type": "code",
   "execution_count": 84,
   "metadata": {},
   "outputs": [
    {
     "name": "stdout",
     "output_type": "stream",
     "text": [
      "0.581+/-0.023\n",
      "2.325+/-0.047\n",
      "5.231+/-0.070\n",
      "9.300+/-0.093\n",
      "14.53+/-0.12\n"
     ]
    }
   ],
   "source": [
    "ri = u.ufloat(4.650101, 5.5e-5)\n",
    "I = np.array(\n",
    "    [u.ufloat(0.5, 0.01),\n",
    "     u.ufloat(1.0, 0.01),\n",
    "     u.ufloat(1.5, 0.01),\n",
    "     u.ufloat(2.0, 0.01),\n",
    "     u.ufloat(2.5, 0.01)],\n",
    ")\n",
    "\n",
    "Wri = 0.5 * I**2 * ri\n",
    "\n",
    "for i in Wri:\n",
    "    print(\"{:.2u}\".format(i))"
   ]
  },
  {
   "cell_type": "code",
   "execution_count": 85,
   "metadata": {},
   "outputs": [
    {
     "name": "stdout",
     "output_type": "stream",
     "text": [
      "28.23+/-0.19\n"
     ]
    }
   ],
   "source": [
    "V = u.ufloat(152.0, 0.5)\n",
    "RC = u.ufloat(818.5, 1.0)\n",
    "\n",
    "WRC = V**2 / RC\n",
    "print(\"{:.2u}\".format(WRC))"
   ]
  },
  {
   "cell_type": "code",
   "execution_count": 86,
   "metadata": {},
   "outputs": [
    {
     "name": "stdout",
     "output_type": "stream",
     "text": [
      "8.5+/-1.1\n",
      "16.7+/-1.4\n",
      "20.4+/-1.0\n",
      "32.21+/-0.49\n",
      "40.51+/-0.41\n"
     ]
    }
   ],
   "source": [
    "Q = Wri + WRC - Wf\n",
    "for i in Q:\n",
    "    print(\"{:.2u}\".format(i))"
   ]
  },
  {
   "cell_type": "code",
   "execution_count": 99,
   "metadata": {},
   "outputs": [],
   "source": [
    "#Regresión lineal ponderada sin término independiente\n",
    "def reg_lin_wb(x, y, sy):\n",
    "    print(\"---\\nRegresión lineal ponderada sin término independiente\\n---\")\n",
    "\n",
    "    n = len(x)\n",
    "    w = sy**(-2)\n",
    "\n",
    "    sw = w.sum()\n",
    "    swx = (w*x).sum()\n",
    "    swxy = (w*x*y).sum()\n",
    "    swx2 = (w*x**2).sum()\n",
    "    swy2 = (w*y**2).sum()\n",
    "\n",
    "    b = swxy / swx2\n",
    "    sb = 1 / (swx2)**0.5\n",
    "\n",
    "    swb = (w*(y - b*x)**2).sum()\n",
    "    s = ((n / ((n-1) * sw)) * swb)**0.5\n",
    "\n",
    "    r = swxy / (swx2 * swy2)**0.5\n",
    "\n",
    "    print(\"b=\", b)\n",
    "    print(\"s=\", s, \"sb=\", sb)\n",
    "    print(\"r=\", r, \"\\n---\")\n",
    "\n",
    "    return (b, s, sb, r)"
   ]
  },
  {
   "cell_type": "code",
   "execution_count": 103,
   "metadata": {},
   "outputs": [
    {
     "name": "stdout",
     "output_type": "stream",
     "text": [
      "---\n",
      "Regresión lineal ponderada sin término independiente\n",
      "---\n",
      "b= 16.083612477804486\n",
      "s= 1.1869965282258177 sb= 0.13300288774882385\n",
      "r= 0.9995190927698772 \n",
      "---\n"
     ]
    },
    {
     "data": {
      "image/png": "[encoded data removed]",
      "text/plain": [
       "<Figure size 432x288 with 1 Axes>"
      ]
     },
     "metadata": {
      "needs_background": "light"
     },
     "output_type": "display_data"
    }
   ],
   "source": [
    "plt.clf()\n",
    "I2 = np.zeros(len(I))\n",
    "Q2 = np.zeros(len(Q))\n",
    "Qerr = np.zeros(len(Q))\n",
    "\n",
    "for i in range(len(I)):\n",
    "    I2[i] = I[i].n\n",
    "for i in range(len(Q)):\n",
    "    Q2[i] = Q[i].n\n",
    "    Qerr[i] = Q[i].s\n",
    "\n",
    "plt.errorbar(I2, Q2, yerr=Qerr, fmt=\"o\", c=\"royalblue\", ecolor=\"mediumseagreen\", capsize=4, mec=\"black\", mew=0.5)\n",
    "\n",
    "b, s, sb, r = reg_lin_wb(I2, Q2, Qerr)\n",
    "xr = np.linspace(min(I2), max(I2), 20)\n",
    "yr = b*xr\n",
    "plt.plot(xr, yr, color=\"cornflowerblue\")\n",
    "guardar(\"reg\", \"$I (A)$\", \"$\\\\dot{Q}_P (W)$\", leg=False)"
   ]
  },
  {
   "cell_type": "code",
   "execution_count": null,
   "metadata": {},
   "outputs": [],
   "source": []
  }
 ],
 "metadata": {
  "kernelspec": {
   "display_name": "Python 3",
   "language": "python",
   "name": "python3"
  },
  "language_info": {
   "codemirror_mode": {
    "name": "ipython",
    "version": 3
   },
   "file_extension": ".py",
   "mimetype": "text/x-python",
   "name": "python",
   "nbconvert_exporter": "python",
   "pygments_lexer": "ipython3",
   "version": "3.9.1"
  }
 },
 "nbformat": 4,
 "nbformat_minor": 2
}
