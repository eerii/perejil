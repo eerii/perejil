{
 "cells": [
  {
   "cell_type": "code",
   "execution_count": 1,
   "id": "19ad49e5",
   "metadata": {},
   "outputs": [],
   "source": [
    "import numpy as np\n",
    "import matplotlib.pyplot as plt\n",
    "import pandas as pd\n",
    "import uncertainties as u"
   ]
  },
  {
   "cell_type": "code",
   "execution_count": 22,
   "id": "20b773dc",
   "metadata": {},
   "outputs": [
    {
     "name": "stdout",
     "output_type": "stream",
     "text": [
      "$ 0.0 $  &  $ 0.0 $  &  $ 20.0 $ \\ \\hline\n",
      "$ 0.1 $  &  $ 0.833 $  &  $ 19.167 $ \\ \\hline\n",
      "$ 0.2 $  &  $ 1.781 $  &  $ 18.219 $ \\ \\hline\n",
      "$ 0.3 $  &  $ 2.871 $  &  $ 17.129 $ \\ \\hline\n",
      "$ 0.4 $  &  $ 4.136 $  &  $ 15.864 $ \\ \\hline\n",
      "$ 0.5 $  &  $ 5.623 $  &  $ 14.376999999999999 $ \\ \\hline\n",
      "$ 0.6 $  &  $ 7.395 $  &  $ 12.605 $ \\ \\hline\n",
      "$ 0.7 $  &  $ 9.543 $  &  $ 10.457 $ \\ \\hline\n",
      "$ 0.8 $  &  $ 12.201 $  &  $ 7.7989999999999995 $ \\ \\hline\n",
      "$ 0.9 $  &  $ 15.575 $  &  $ 4.425000000000001 $ \\ \\hline\n",
      "$ 1.0 $  &  $ 20.0 $  &  $ 0.0 $ \\ \\hline\n"
     ]
    }
   ],
   "source": [
    "#Densidades\n",
    "Mh = u.ufloat(18.016, 0.001)\n",
    "Mo = u.ufloat(46.068, 0.001)\n",
    "\n",
    "xh = np.zeros(11)\n",
    "for i in range(11):\n",
    "    xh[i] = i * 0.1\n",
    "\n",
    "mh = (20 * Mh * xh) / (Mo * (1-xh) + Mh * xh)\n",
    "for i in range(11):\n",
    "    print(\"$ {} $  &  $ {} $  &  $ {} $ \\\\ \\hline\".format(np.round(xh[i],1), np.round(mh[i].n, 3), 20 - np.round(mh[i].n, 3)))"
   ]
  },
  {
   "cell_type": "code",
   "execution_count": 117,
   "id": "ede054d1",
   "metadata": {},
   "outputs": [
    {
     "name": "stdout",
     "output_type": "stream",
     "text": [
      "$ 0.0 $  &  $ -1.0417+/-0.0054 $  &  $ 21.0417+/-0.0054 $ \\\\ \\hline\n",
      "$ 0.1 $  &  $ -0.17698+/-0.00089 $  &  $ 20.17698+/-0.00089 $ \\\\ \\hline\n",
      "$ 0.2 $  &  $ 0.8088+/-0.0038 $  &  $ 19.1912+/-0.0038 $ \\\\ \\hline\n",
      "$ 0.3 $  &  $ 1.9431+/-0.0087 $  &  $ 18.0569+/-0.0087 $ \\\\ \\hline\n",
      "$ 0.4 $  &  $ 3.262+/-0.014 $  &  $ 16.738+/-0.014 $ \\\\ \\hline\n",
      "$ 0.5 $  &  $ 4.815+/-0.018 $  &  $ 15.185+/-0.018 $ \\\\ \\hline\n",
      "$ 0.6 $  &  $ 6.670+/-0.022 $  &  $ 13.330+/-0.022 $ \\\\ \\hline\n",
      "$ 0.7 $  &  $ 8.925+/-0.024 $  &  $ 11.075+/-0.024 $ \\\\ \\hline\n",
      "$ 0.8 $  &  $ 11.725+/-0.024 $  &  $ 8.275+/-0.024 $ \\\\ \\hline\n",
      "$ 0.9 $  &  $ 15.294+/-0.018 $  &  $ 4.706+/-0.018 $ \\\\ \\hline\n",
      "$ 1.0 $  &  $ 20.0000000000000000000+/-0.0000000000000000018 $  &  $ (0.0+/-1.8)e-18 $ \\\\ \\hline\n"
     ]
    }
   ],
   "source": [
    "ph = u.ufloat(1.000, 0.000)\n",
    "po = u.ufloat(0.789, 0.000)\n",
    "pa = u.ufloat(0.808, 0.004)\n",
    "\n",
    "m = (20 * 0.04 * (ph / pa) - 20 * xh * (0.04 * (ph / pa) + 0.96 * (po / pa) * (Mh / Mo))) / (xh * (1 - 0.04 * (ph / pa) - 0.96 * (po/pa) * (Mh / Mo)) + 0.04 * (ph/pa) - 1)\n",
    "for i in range(11):\n",
    "    print(\"$ {:.1f} $  &  $ {:.2u} $  &  $ {:.2u} $ \\\\\\\\ \\\\hline\".format(xh[i], m[i], 20 - m[i]))"
   ]
  },
  {
   "cell_type": "code",
   "execution_count": 129,
   "id": "e6591fbc",
   "metadata": {},
   "outputs": [
    {
     "name": "stdout",
     "output_type": "stream",
     "text": [
      "(-1.4+/-5.9)e-05\n"
     ]
    }
   ],
   "source": [
    "x = 0.11897\n",
    "mr = (20 * 0.04 * (ph / pa) - 20 * x * (0.04 * (ph / pa) + 0.96 * (po / pa) * (Mh / Mo))) / (x * (1 - 0.04 * (ph / pa) - 0.96 * (po/pa) * (Mh / Mo)) + 0.04 * (ph/pa) - 1)\n",
    "print(\"{:.2u}\".format(mr))"
   ]
  },
  {
   "cell_type": "code",
   "execution_count": 48,
   "id": "8c326415",
   "metadata": {},
   "outputs": [],
   "source": [
    "d = pd.read_csv(\"datos.csv\", sep=';', decimal=',')\n",
    "\n",
    "labels = []\n",
    "for i in range(11):\n",
    "    if i == 10:\n",
    "        labels.append(\"1,0\")\n",
    "    else:\n",
    "        labels.append(\"0,{}\".format(i))"
   ]
  },
  {
   "cell_type": "code",
   "execution_count": 51,
   "id": "947d9a04",
   "metadata": {},
   "outputs": [],
   "source": [
    "def inicio(c, s=[5.0, 3.5]):\n",
    "    import matplotlib\n",
    "    from cycler import cycler\n",
    "\n",
    "    ccycler = 0\n",
    "    if c <= 2:\n",
    "        ccycler = (cycler(color=[\"royalblue\", \"tomato\"]))\n",
    "    if c == 3:\n",
    "        ccycler = (cycler(color=[\"royalblue\", \"mediumseagreen\", \"tomato\"]))\n",
    "    if c >= 4:\n",
    "        ccycler = (cycler(color=[\"royalblue\", \"mediumseagreen\", \"sandybrown\", \"tomato\", \"orchid\"]))\n",
    "    matplotlib.rcParams['axes.prop_cycle'] = ccycler\n",
    "\n",
    "def guardar(n, xl, yl, leg=True, lab=True):\n",
    "    import matplotlib.pyplot as plt\n",
    "    if lab:\n",
    "        plt.xlabel(xl)\n",
    "        plt.ylabel(yl, rotation=0, labelpad=20)\n",
    "    if leg: plt.legend()\n",
    "    plt.savefig(n + \".pgf\", bbox_inches = \"tight\")"
   ]
  },
  {
   "cell_type": "code",
   "execution_count": 52,
   "id": "e4826bc3",
   "metadata": {},
   "outputs": [],
   "source": [
    "#Regresión lineal con término independiente\n",
    "def reg_lin(x, y):\n",
    "    print(\"---\\nRegresión lineal con término independiente\\n---\")\n",
    "\n",
    "    n = len(x)\n",
    "\n",
    "    sx = x.sum()\n",
    "    sy = y.sum()\n",
    "    sxy = (x*y).sum()\n",
    "    sx2 = (x**2).sum()\n",
    "    sy2 = (y**2).sum()\n",
    "\n",
    "    a = (sy*sx2 - sx*sxy) / (n*sx2 - sx**2)\n",
    "    b = (n*sxy - sx*sy) / (n*sx2 - sx**2)\n",
    "\n",
    "    sdesv = ((y - a - b*x)**2).sum()\n",
    "    s = (sdesv/float(n-2))*0.5\n",
    "    sa = s*(sx2 / (n*sx2 - sx**2))**0.5\n",
    "    sb = s*(n / (n*sx2 - sx**2))**0.5\n",
    "\n",
    "    r = (n*sxy - sx*sy)/(((n*sx2 - sx**2)*(n*sy2 - sy**2))**0.5)\n",
    "\n",
    "    print(\"a=\", a, \"b=\", b)\n",
    "    print(\"s=\", s, \"sa=\", sa, \"sb=\", sb)\n",
    "    print(\"r=\", r, \"\\n---\")\n",
    "\n",
    "    return (a, b, s, sa, sb, r)"
   ]
  },
  {
   "cell_type": "code",
   "execution_count": 80,
   "id": "e83e3a54",
   "metadata": {
    "collapsed": true
   },
   "outputs": [
    {
     "name": "stdout",
     "output_type": "stream",
     "text": [
      "10\n",
      "---\n",
      "Regresión lineal con término independiente\n",
      "---\n",
      "a= 1.0063018181818741 b= -0.0003418181818195697\n",
      "s= 1.292929292928993e-09 sa= 7.2837219209499214e-09 sb= 2.4655194226951006e-10\n",
      "r= -0.9963980077519172 \n",
      "---\n",
      "9\n",
      "---\n",
      "Regresión lineal con término independiente\n",
      "---\n",
      "a= 0.9782400000000022 b= -0.0005563636363630326\n",
      "s= 5.252525252529135e-10 sa= 2.9590120303887793e-09 sb= 1.0016172654708574e-10\n",
      "r= -0.9994451201561777 \n",
      "---\n",
      "8\n",
      "---\n",
      "Regresión lineal con término independiente\n",
      "---\n",
      "a= 0.9583472727272132 b= -0.0007054545454518443\n",
      "s= 1.0909090909088058e-09 sa= 6.1456403708013156e-09 sb= 2.0802820128989301e-10\n",
      "r= -0.9992833727452868 \n",
      "---\n",
      "7\n",
      "---\n",
      "Regresión lineal con término independiente\n",
      "---\n",
      "a= 0.9317627272727872 b= -0.0007290909090924221\n",
      "s= 5.000000000004674e-10 sa= 2.816751836620639e-09 sb= 9.534625892464835e-11\n",
      "r= -0.9996923081734693 \n",
      "---\n",
      "6\n",
      "---\n",
      "Regresión lineal con término independiente\n",
      "---\n",
      "a= 0.9094000000000089 b= -0.0008000000000006254\n",
      "s= 5.684220265500409e-29 sa= 3.202207574517913e-28 sb= 1.0839382744372574e-29\n",
      "r= -1.0000000000666887 \n",
      "---\n",
      "5\n",
      "---\n",
      "Regresión lineal con término independiente\n",
      "---\n",
      "a= 0.8908645454545463 b= -0.0008345454545453006\n",
      "s= 8.030303030297526e-10 sa= 4.523874161837939e-09 sb= 1.531318703938841e-10\n",
      "r= -0.9996228656555396 \n",
      "---\n",
      "4\n",
      "---\n",
      "Regresión lineal con término independiente\n",
      "---\n",
      "a= 0.8739781818181384 b= -0.0008436363636365585\n",
      "s= 2.0404040404052055e-09 sa= 1.1494623656508325e-08 sb= 3.8908978389438307e-10\n",
      "r= -0.9990630751973327 \n",
      "---\n",
      "3\n",
      "---\n",
      "Regresión lineal con término independiente\n",
      "---\n",
      "a= 0.8602827272727154 b= -0.0008709090909088288\n",
      "s= 2.8232323232313116e-09 sa= 1.5904689663322234e-08 sb= 5.38369280189995e-10\n",
      "r= -0.9987840433288516 \n",
      "---\n",
      "2\n",
      "---\n",
      "Regresión lineal con término independiente\n",
      "---\n",
      "a= 0.8453645454545521 b= -0.0008163636363642882\n",
      "s= 5.000000000000356e-10 sa= 2.8167518366182066e-09 sb= 9.534625892456602e-11\n",
      "r= -0.9997545559205925 \n",
      "---\n",
      "1\n",
      "---\n",
      "Regresión lineal con término independiente\n",
      "---\n",
      "a= 0.8356081818182345 b= -0.0008927272727290502\n",
      "s= 1.2520202020203065e-08 sa= 7.05326040704709e-08 sb= 2.387508847212142e-09\n",
      "r= -0.9948978891713418 \n",
      "---\n",
      "0\n",
      "---\n",
      "Regresión lineal con término independiente\n",
      "---\n",
      "a= 0.8244272727272012 b= -0.000872727272724675\n",
      "s= 1.7171717171722394e-09 sa= 9.673693176266801e-09 sb= 3.2745179832686865e-10\n",
      "r= -0.9992629683243782 \n",
      "---\n"
     ]
    },
    {
     "data": {
      "image/png": "[encoded data removed]",
      "text/plain": [
       "<Figure size 432x288 with 1 Axes>"
      ]
     },
     "metadata": {
      "needs_background": "light"
     },
     "output_type": "display_data"
    }
   ],
   "source": [
    "T = d[\"T\"].to_numpy()\n",
    "\n",
    "colors = [\"deeppink\", \"tomato\", \"orange\", \"gold\", \"limegreen\", \"mediumturquoise\", \"deepskyblue\", \"dodgerblue\", \"royalblue\", \"darkviolet\", \"darkmagenta\"]\n",
    "\n",
    "plt.clf()\n",
    "plt.subplot(111)\n",
    "\n",
    "for i in range(11):\n",
    "    di = d[labels[10-i]].to_numpy()\n",
    "    plt.scatter(T, di, edgecolors=\"black\", linewidth=0.5, c=colors[i], label=labels[10-i])\n",
    "    print(10-i)\n",
    "    a, b, s, sa, sb, r = reg_lin(T, di)\n",
    "    xr = np.linspace(min(T), max(T), 10)\n",
    "    yr = a + b*xr\n",
    "    plt.plot(xr, yr, color=colors[i])\n",
    "    \n",
    "plt.legend(bbox_to_anchor=(1,0.5), loc=\"center left\", ncol=1)\n",
    "plt.xlabel(\"$T (^\\\\circ C)$\")\n",
    "plt.ylabel(\"$\\\\rho (g/cm^3)$\", rotation=0, labelpad=20)\n",
    "plt.savefig(\"dens\" + \".pgf\", bbox_inches = \"tight\")"
   ]
  },
  {
   "cell_type": "code",
   "execution_count": 110,
   "id": "3dc054f8",
   "metadata": {},
   "outputs": [
    {
     "name": "stdout",
     "output_type": "stream",
     "text": [
      "32.0\n",
      "0.9994629497179179 [0.12376457 0.07142634 0.7981965 ]\n",
      "31.5\n",
      "0.9994691364497683 [0.12327506 0.07175221 0.7985958 ]\n",
      "31.0\n",
      "0.999456925111177 [0.12319347 0.07142471 0.79924266]\n",
      "30.5\n",
      "0.9994587095865456 [0.12301865 0.07135408 0.79973007]\n",
      "30.0\n",
      "0.999470050645178 [0.12261072 0.07160746 0.80010979]\n",
      "29.5\n",
      "0.9994600497155056 [0.12208625 0.07199557 0.80045385]\n",
      "29.0\n",
      "0.9994743888941185 [0.12136364 0.07248182 0.80082727]\n",
      "28.5\n",
      "0.9995034954810048 [0.12125874 0.07237762 0.80128881]\n",
      "28.0\n",
      "0.9995060147448749 [0.12066434 0.07276294 0.80166783]\n",
      "27.5\n",
      "0.9995050656092951 [0.12008159 0.07314569 0.80204406]\n",
      "27.0\n",
      "0.9995194335732711 [0.11937063 0.07368392 0.8023965 ]\n",
      "0.9995194335732711 27.0\n"
     ]
    }
   ],
   "source": [
    "x = np.ones(11)\n",
    "for i in range(11):\n",
    "    x[i] -= 0.1 * i\n",
    "\n",
    "max_i, max_r = 0, 0\n",
    "\n",
    "for i in range(11):\n",
    "    j = 32 - i * 0.5\n",
    "    print(j)\n",
    "    \n",
    "    p = d[d[\"T\"] == j].iloc[:, 1:].to_numpy()[0]\n",
    "    \n",
    "    par = np.polyfit(x, p, 2)\n",
    "    pol = np.poly1d(par)\n",
    "    yhat = pol(x)\n",
    "    ybar = np.sum(p)/len(p)\n",
    "    SST = np.sum((p - ybar)**2)\n",
    "    SSreg = np.sum((yhat - ybar)**2)\n",
    "    R2 = SSreg/SST\n",
    "    \n",
    "    if R2 > max_r:\n",
    "        max_r = R2\n",
    "        max_i = j\n",
    "\n",
    "    print(R2, par)\n",
    "\n",
    "print(max_r, max_i)"
   ]
  },
  {
   "cell_type": "code",
   "execution_count": 115,
   "id": "036b4d91",
   "metadata": {},
   "outputs": [
    {
     "name": "stdout",
     "output_type": "stream",
     "text": [
      "[0.00552564 0.0057371  0.0012331 ]\n"
     ]
    },
    {
     "data": {
      "image/png": "[encoded data removed]",
      "text/plain": [
       "<Figure size 432x288 with 1 Axes>"
      ]
     },
     "metadata": {
      "needs_background": "light"
     },
     "output_type": "display_data"
    }
   ],
   "source": [
    "p = d[d[\"T\"] == 28].iloc[:, 1:].to_numpy()[0]\n",
    "par, cov = np.polyfit(x, p, 2, cov=True)\n",
    "print(np.sqrt(np.diag(cov)))\n",
    "\n",
    "xs = np.linspace(min(x), max(x), 100)\n",
    "ys = par[2] + par[1] * xs + par[0] * xs**2\n",
    "\n",
    "plt.scatter(x, p, edgecolors=\"black\", linewidth=0.5, c=\"royalblue\")\n",
    "plt.plot(xs, ys, c=\"cornflowerblue\")\n",
    "guardar(\"t28\", \"$\\\\chi_{H_2O}$\", \"$\\\\rho (g/cm^3)$\", leg=False)"
   ]
  },
  {
   "cell_type": "code",
   "execution_count": 176,
   "id": "6ea31d59",
   "metadata": {},
   "outputs": [
    {
     "name": "stdout",
     "output_type": "stream",
     "text": [
      "0.8121+/-0.0014\n"
     ]
    }
   ],
   "source": [
    "A = u.ufloat(0.8017, 0.0012)\n",
    "B = u.ufloat(0.0728, 0.0057)\n",
    "C = u.ufloat(0.1207, 0.0055)\n",
    "\n",
    "x = 0.11897\n",
    "\n",
    "rho = A + B*x + C*x**2\n",
    "print(\"{:.2u}\".format(rho))"
   ]
  },
  {
   "cell_type": "code",
   "execution_count": 177,
   "id": "d43af0ad",
   "metadata": {},
   "outputs": [
    {
     "name": "stdout",
     "output_type": "stream",
     "text": [
      "0.1190+/-0.0012\n",
      "0.2023+/-0.0011\n",
      "0.2866+/-0.0011\n",
      "0.3719+/-0.0011\n",
      "0.4583+/-0.0012\n",
      "0.5458+/-0.0012\n",
      "0.6344+/-0.0011\n",
      "0.72407+/-0.00098\n",
      "0.81488+/-0.00076\n",
      "0.90685+/-0.00047\n",
      "1.00000+/-0.00020\n"
     ]
    }
   ],
   "source": [
    "ph = u.ufloat(1.000, 0.000)\n",
    "po = u.ufloat(0.789, 0.000)\n",
    "p96 = u.ufloat(0.808, 0.004)\n",
    "Mh = u.ufloat(18.016, 0.001)\n",
    "Mo = u.ufloat(46.068, 0.001)\n",
    "\n",
    "xh = np.zeros(11)\n",
    "for i in range(11):\n",
    "    xh[i] = i * 0.1\n",
    "\n",
    "mh = (20 * Mh * xh) / (Mo * (1-xh) + Mh * xh)\n",
    "m96 = 20 - mh\n",
    "\n",
    "for i in range(11):\n",
    "    mh[i] = u.ufloat(mh[i].n, 0.011)\n",
    "    m96[i] = u.ufloat(m96[i].n, 0.011)\n",
    "\n",
    "#mh = u.ufloat(0, 0.011)\n",
    "#m96 = u.ufloat(20, 0.011)\n",
    "\n",
    "xr = 1.0 / (1.0 + (Mh / Mo) * ((0.96 * m96 * po) / (mh*p96 + 0.04*m96*ph)))\n",
    "\n",
    "for i in range(11):\n",
    "    print(\"{:.2u}\".format(xr[i]))"
   ]
  },
  {
   "cell_type": "code",
   "execution_count": 180,
   "id": "a1a741d4",
   "metadata": {},
   "outputs": [
    {
     "name": "stdout",
     "output_type": "stream",
     "text": [
      "0.1190+/-0.0012 & -0.1715+/-0.0091\n",
      "0.2023+/-0.0011 & -0.3897+/-0.0087\n",
      "0.2866+/-0.0011 & -0.5823+/-0.0088\n",
      "0.3719+/-0.0011 & -0.7420+/-0.0093\n",
      "0.4583+/-0.0012 & -0.8262+/-0.0099\n",
      "0.5458+/-0.0012 & -0.898+/-0.010\n",
      "0.6344+/-0.0011 & -0.903+/-0.010\n",
      "0.72407+/-0.00098 & -0.8924+/-0.0099\n",
      "0.81488+/-0.00076 & -0.7623+/-0.0084\n",
      "0.90685+/-0.00047 & -0.3483+/-0.0057\n",
      "1.00000+/-0.00020 & 0.0596+/-0.0031\n"
     ]
    }
   ],
   "source": [
    "import uncertainties as u\n",
    "\n",
    "p = d[d[\"T\"] == 28].iloc[:, 1:].to_numpy()[0][::-1]\n",
    "pu = []\n",
    "for i in range(11):\n",
    "    pu.append(u.ufloat(p[i], 0.0001))\n",
    "pu = np.array(pu)\n",
    "    \n",
    "ve = ((xr*Mh + (1-xr)*Mo)/pu) - ((xr*Mh)/(ph) + ((1-xr)*Mo)/(po))\n",
    "\n",
    "A = (Mh / p) - (Mh / ph)\n",
    "B = (Mo / p) - (Mo / po)\n",
    "C = -((xr*Mh + (1-xr)*Mo) / (p**2))\n",
    "D = -xr * (Mh / (ph**2))\n",
    "E = -(1-xr) * (Mo / (po**2))\n",
    "\n",
    "sxr = []\n",
    "for i in xr:\n",
    "    sxr.append(i.s)\n",
    "sxr = np.array(sxr)\n",
    "\n",
    "verr = ((A**2 * sxr**2) + (B**2 * sxr**2) + (C**2 * 0.0001**2) + (D**2 * ph.s**2) + (E**2 * po**2))**0.5\n",
    "\n",
    "for i in range(11):\n",
    "    print(\"{:.2u} & {:.2u}\".format(xr[i], ve[i]))"
   ]
  },
  {
   "cell_type": "code",
   "execution_count": 160,
   "id": "89217f7a",
   "metadata": {},
   "outputs": [
    {
     "name": "stdout",
     "output_type": "stream",
     "text": [
      "[4.8854201  8.74343715 3.8956665 ]\n",
      "0.9779472560496184\n"
     ]
    },
    {
     "data": {
      "image/png": "[encoded data removed]",
      "text/plain": [
       "<Figure size 432x288 with 1 Axes>"
      ]
     },
     "metadata": {
      "needs_background": "light"
     },
     "output_type": "display_data"
    }
   ],
   "source": [
    "y, ys = [], []\n",
    "for v in ve:\n",
    "    y.append(v.n)\n",
    "    ys.append(v.s)\n",
    "y = np.array(x)\n",
    "ys = np.array(xs)\n",
    "\n",
    "par, cov = np.polyfit(p, y, 2, cov=True)\n",
    "print(np.sqrt(np.diag(cov)))\n",
    "\n",
    "pol = np.poly1d(par)\n",
    "\n",
    "yhat = pol(p)\n",
    "ybar = np.sum(y)/len(y)\n",
    "SST = np.sum((y - ybar)**2)\n",
    "SSreg = np.sum((yhat - ybar)**2)\n",
    "R2 = SSreg/SST\n",
    "print(R2)\n",
    "\n",
    "xr = np.linspace(min(p), max(p), 100)\n",
    "yr = par[2] + par[1] * xr + par[0] * xr**2\n",
    "\n",
    "plt.errorbar(p, y, yerr=ys, fmt=\"o\", mec=\"black\", linewidth=0.5, c=\"royalblue\")\n",
    "plt.plot(xr, yr, c=\"cornflowerblue\")\n",
    "guardar(\"ve\", \"$\\\\chi_{H_2O}^{real}$\", \"$v^E (cm^3/mol)$\", leg=False)"
   ]
  },
  {
   "cell_type": "code",
   "execution_count": 214,
   "id": "1d8705c3",
   "metadata": {},
   "outputs": [
    {
     "name": "stdout",
     "output_type": "stream",
     "text": [
      "$ (-0.0+/-6.9)e+24 $  &  $ 57.5850+/-0.0097 $\n",
      "$ 8.22+/-0.22 $  &  $ 57.300+/-0.010 $\n",
      "$ 12.392+/-0.094 $  &  $ 56.982+/-0.012 $\n",
      "$ 13.909+/-0.064 $  &  $ 56.628+/-0.014 $\n",
      "$ 14.874+/-0.049 $  &  $ 56.293+/-0.018 $\n",
      "$ 15.484+/-0.040 $  &  $ 55.856+/-0.022 $\n",
      "$ 16.011+/-0.032 $  &  $ 55.380+/-0.027 $\n",
      "$ 16.411+/-0.025 $  &  $ 54.644+/-0.031 $\n",
      "$ 16.868+/-0.017 $  &  $ 53.796+/-0.037 $\n",
      "$ 17.5435+/-0.0091 $  &  $ 54.135+/-0.052 $\n",
      "$ 18.0756+/-0.0033 $  &  $ (0.0+/-3.4)e+22 $\n"
     ]
    }
   ],
   "source": [
    "m = (20 * 0.04 * (ph / pa) - 20 * xr * (0.04 * (ph / pa) + 0.96 * (po / pa) * (Mh / Mo))) / (xr * (1 - 0.04 * (ph / pa) - 0.96 * (po/pa) * (Mh / Mo)) + 0.04 * (ph/pa) - 1)\n",
    "\n",
    "#mh = (20 * Mh * xh) / (Mo * (1-xh) + Mh * xh)\n",
    "#for i in range(11):\n",
    "    #m[i] = u.ufloat(m[i].n, 0.011)\n",
    "\n",
    "\n",
    "vph2o = (Mh / pu) + ((((20 - m) * Mh) / (m + 0.0000000000001)) * (1/pu - 1/po))\n",
    "vpoh = (Mo / pu) + (((m * Mo) / ((20.000000000001 - m))) * (1/pu - 1/ph))\n",
    "\n",
    "for i in range(11):\n",
    "    print(\"$ {:.2u} $  &  $ {:.2u} $\".format(vph2o[i], vpoh[i]))"
   ]
  },
  {
   "cell_type": "code",
   "execution_count": 218,
   "id": "fa6d6e85",
   "metadata": {},
   "outputs": [
    {
     "data": {
      "image/png": "[encoded data removed]",
      "text/plain": [
       "<Figure size 432x288 with 1 Axes>"
      ]
     },
     "metadata": {
      "needs_background": "light"
     },
     "output_type": "display_data"
    }
   ],
   "source": [
    "y, yerr = [], []\n",
    "for v in vph2o:\n",
    "    y.append(v.n)\n",
    "    yerr.append(v.s)\n",
    "y = np.array(y)[1:]\n",
    "yerr = np.array(yerr)[1:]\n",
    "x = []\n",
    "for i in xr:\n",
    "    x.append(i.n)\n",
    "x = np.array(x)[1:]\n",
    "\n",
    "plt.errorbar(x, y, yerr=yerr, fmt=\"o\", mec=\"black\", linewidth=0.5, c=\"royalblue\", label=\"Auga como soluto\")\n",
    "guardar(\"vah2o\", \"$\\\\chi_{H_2O}^{real}$\", \"$v_\\phi (cm^3/mol)$\", leg=True)"
   ]
  },
  {
   "cell_type": "code",
   "execution_count": 219,
   "id": "53350581",
   "metadata": {},
   "outputs": [
    {
     "data": {
      "image/png": "[encoded data removed]",
      "text/plain": [
       "<Figure size 432x288 with 1 Axes>"
      ]
     },
     "metadata": {
      "needs_background": "light"
     },
     "output_type": "display_data"
    }
   ],
   "source": [
    "y, yerr = [], []\n",
    "for v in vpoh:\n",
    "    y.append(v.n)\n",
    "    yerr.append(v.s)\n",
    "y = np.array(y)[:-1]\n",
    "yerr = np.array(yerr)[:-1]\n",
    "x = []\n",
    "for i in xr:\n",
    "    x.append(i.n)\n",
    "x = np.array(x)[:-1]\n",
    "\n",
    "plt.errorbar(x, y, yerr=yerr, fmt=\"o\", mec=\"black\", linewidth=0.5, c=\"tomato\", label=\"Etanol como soluto\")\n",
    "guardar(\"vaoh\", \"$\\\\chi_{H_2O}^{real}$\", \"$v_\\phi (cm^3/mol)$\", leg=True)"
   ]
  },
  {
   "cell_type": "code",
   "execution_count": 221,
   "id": "df1a5a95",
   "metadata": {},
   "outputs": [
    {
     "name": "stdout",
     "output_type": "stream",
     "text": [
      "$ 22.5200+/-0.0031 $  &  $ 57.5850+/-0.0073 $\n",
      "$ 22.2255+/-0.0030 $  &  $ 56.8320+/-0.0071 $\n",
      "$ 21.9040+/-0.0029 $  &  $ 56.0097+/-0.0069 $\n",
      "$ 21.5528+/-0.0028 $  &  $ 55.1119+/-0.0067 $\n",
      "$ 21.1878+/-0.0028 $  &  $ 54.1785+/-0.0065 $\n",
      "$ 20.7677+/-0.0027 $  &  $ 53.1043+/-0.0062 $\n",
      "$ 20.3112+/-0.0026 $  &  $ 51.9369+/-0.0060 $\n",
      "$ 19.7696+/-0.0024 $  &  $ 50.5520+/-0.0057 $\n",
      "$ 19.1945+/-0.0023 $  &  $ 49.0816+/-0.0053 $\n",
      "$ 18.7140+/-0.0022 $  &  $ 47.8529+/-0.0051 $\n",
      "$ 18.0756+/-0.0021 $  &  $ 46.2205+/-0.0047 $\n"
     ]
    }
   ],
   "source": [
    "vbarh = Mh / pu\n",
    "vbaro = Mo / pu\n",
    "\n",
    "for i in range(11):\n",
    "    print(\"$ {:.2u} $  &  $ {:.2u} $\".format(vbarh[i], vbaro[i]))"
   ]
  },
  {
   "cell_type": "code",
   "execution_count": 226,
   "id": "1e94d7d2",
   "metadata": {},
   "outputs": [
    {
     "name": "stdout",
     "output_type": "stream",
     "text": [
      "---\n",
      "Regresión lineal con término independiente\n",
      "---\n",
      "a= 23.3493485421333 b= -5.049352278076724\n",
      "s= 0.011743907832813497 sa= 0.007851261032244069 sb= 0.012711051094131173\n",
      "r= -0.9951786157282354 \n",
      "---\n"
     ]
    },
    {
     "data": {
      "image/png": "[encoded data removed]",
      "text/plain": [
       "<Figure size 432x288 with 1 Axes>"
      ]
     },
     "metadata": {
      "needs_background": "light"
     },
     "output_type": "display_data"
    }
   ],
   "source": [
    "y = []\n",
    "for v in vbarh:\n",
    "    y.append(v.n)\n",
    "y = np.array(y)\n",
    "\n",
    "xr = 1.0 / (1.0 + (Mh / Mo) * ((0.96 * m96 * po) / (mh*p96 + 0.04*m96*ph)))\n",
    "x = []\n",
    "for i in xr:\n",
    "    x.append(i.n)\n",
    "x = np.array(x)\n",
    "\n",
    "plt.errorbar(x, y, fmt=\"o\", mec=\"black\", linewidth=0.5, c=\"royalblue\", label=\"$H_2O$\")\n",
    "\n",
    "a, b, s, sa, sb, r = reg_lin(x, y)\n",
    "xs = np.linspace(min(x), max(x), 10)\n",
    "ys = a + b*xs\n",
    "plt.plot(xs, ys, color=\"cornflowerblue\")\n",
    "\n",
    "guardar(\"vbarh\", \"$\\\\chi_{H_2O}^{real}$\", \"$\\\\bar{v} (cm^3/mol)$\", leg=True)"
   ]
  },
  {
   "cell_type": "code",
   "execution_count": 227,
   "id": "25d6aca9",
   "metadata": {},
   "outputs": [
    {
     "name": "stdout",
     "output_type": "stream",
     "text": [
      "---\n",
      "Regresión lineal con término independiente\n",
      "---\n",
      "a= 59.70569430722673 b= -12.911498709282718\n",
      "s= 0.07678822065611961 sa= 0.05133592439206988 sb= 0.08311194281175824\n",
      "r= -0.9951786157282191 \n",
      "---\n"
     ]
    },
    {
     "data": {
      "image/png": "[encoded data removed]",
      "text/plain": [
       "<Figure size 432x288 with 1 Axes>"
      ]
     },
     "metadata": {
      "needs_background": "light"
     },
     "output_type": "display_data"
    }
   ],
   "source": [
    "y = []\n",
    "for v in vbaro:\n",
    "    y.append(v.n)\n",
    "y = np.array(y)\n",
    "\n",
    "xr = 1.0 / (1.0 + (Mh / Mo) * ((0.96 * m96 * po) / (mh*p96 + 0.04*m96*ph)))\n",
    "x = []\n",
    "for i in xr:\n",
    "    x.append(i.n)\n",
    "x = np.array(x)\n",
    "\n",
    "plt.errorbar(x, y, fmt=\"o\", mec=\"black\", linewidth=0.5, c=\"tomato\", label=\"$OH$\")\n",
    "\n",
    "a, b, s, sa, sb, r = reg_lin(x, y)\n",
    "xs = np.linspace(min(x), max(x), 10)\n",
    "ys = a + b*xs\n",
    "plt.plot(xs, ys, color=\"lightsalmon\")\n",
    "\n",
    "guardar(\"vbaro\", \"$\\\\chi_{H_2O}^{real}$\", \"$\\\\bar{v} (cm^3/mol)$\", leg=True)"
   ]
  },
  {
   "cell_type": "code",
   "execution_count": null,
   "id": "3be68196",
   "metadata": {},
   "outputs": [],
   "source": []
  }
 ],
 "metadata": {
  "kernelspec": {
   "display_name": "Python 3",
   "language": "python",
   "name": "python3"
  },
  "language_info": {
   "codemirror_mode": {
    "name": "ipython",
    "version": 3
   },
   "file_extension": ".py",
   "mimetype": "text/x-python",
   "name": "python",
   "nbconvert_exporter": "python",
   "pygments_lexer": "ipython3",
   "version": "3.9.1"
  }
 },
 "nbformat": 4,
 "nbformat_minor": 5
}
